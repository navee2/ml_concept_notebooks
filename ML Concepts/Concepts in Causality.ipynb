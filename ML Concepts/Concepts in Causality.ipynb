{
 "cells": [
  {
   "cell_type": "markdown",
   "metadata": {},
   "source": [
    "This notebook a quick review of concepts in causality for refreshing my concepts"
   ]
  },
  {
   "cell_type": "markdown",
   "metadata": {},
   "source": [
    "## Terminology\n",
    "* **Potential outcomes**: Y\n",
    "* **ATE**: Average treatment effect. $E[Y(1)] - E[Y(0)]$\n",
    "* **Ignorability**: We can ignore the unknown.\n",
    "$$(Y(1), Y(0))$$ is independent of T\n",
    "This implies causal treatment effect equals statistical difference in population.\n",
    "$$E[Y(1)] - E[Y(0)] = E[Y|T=1] = E[Y|T=0]$$\n",
    "* **Exchangeability**: We can exchange the Test and Control without any effect on Expectations\n",
    "$$E[Y(1)|T=1]=E[Y(1)|T=0]=E[Y(1)]$$\n",
    "Exchangeability implies ignorability\n",
    "* **Identifiablity**: A causal measure is identifiable if it can be calculated using statistical equations. RCT creates identifiability by introducing ignorability. \n",
    "* **Conditional exchangeabilty/Unconfoundedness**: Given factor X, outcome is indepnendent of Treatment/control group. Its impossible to guarantee unconfoundedness because of some latent compounding factor.\n",
    "$$ATE = E[Y(1)] - E[Y(0)] = E_{X}(E[Y|T=1, X] - E[Y|T=0, X])$$\n",
    "* **No interference**: $Y_{i}(t_1, t_2....t_n) = Y_i(t_j)$ That is no other factor matters\n",
    "* **consistency**: T=t=> Y=Y(t) - same treatment cause same outcome. That is there is no multiple outcome version of treament.\n",
    "* **Positivity**: For any X there exists both treatments $0<P(T=1|X=x)<1$\n",
    "* **Overlap**: Domains of treatments overlap. Otherwise there might be extrapolation which might lead to diffult to model results.\n",
    "* **Markov Assumption**: You depend only on your parent\n",
    "* **Minimality Assumption**:\n",
    "* **Bayesian network factorization**:\n",
    "* **Blocked Path**: Any path between two nodes without block\n",
    "* **d-seperation**: If there is a block path between two nodes then they are d-separated\n",
    "* **Global Markov assumption**: ????\n",
    "\n",
    "\n",
    "### Graph terms\n",
    "* **Path**\n",
    "* **Directed path**\n",
    "* **Ancestor**\n",
    "* **Descendents**\n",
    "* **Cycle**\n",
    "* **DAG**\n",
    "* **Chain , fork and immorality** - Three fundamental blocks of graphs\n",
    "* **Collider**\n"
   ]
  },
  {
   "cell_type": "markdown",
   "metadata": {},
   "source": [
    "## Concepts\n",
    "* Causal estimand --Identifiability---> Statistical estimate--->estimate\n",
    "* Markov assumption <=> Bayesian network factorization\n",
    "* Linear model with exchangeability implies constant treatment effect irrespective of any other variable\n",
    "* For continuous treatment we measure $E[Y(t)]$\n",
    "* Conditioning blocks association in chains and fork\n",
    "* Conditioning on collider induces association\n",
    "* What is selection bias???"
   ]
  },
  {
   "cell_type": "code",
   "execution_count": null,
   "metadata": {},
   "outputs": [],
   "source": []
  }
 ],
 "metadata": {
  "kernelspec": {
   "display_name": "Python 3",
   "language": "python",
   "name": "python3"
  },
  "language_info": {
   "codemirror_mode": {
    "name": "ipython",
    "version": 3
   },
   "file_extension": ".py",
   "mimetype": "text/x-python",
   "name": "python",
   "nbconvert_exporter": "python",
   "pygments_lexer": "ipython3",
   "version": "3.6.6"
  }
 },
 "nbformat": 4,
 "nbformat_minor": 2
}
